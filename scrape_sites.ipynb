{
 "cells": [
  {
   "cell_type": "code",
   "execution_count": 17,
   "metadata": {},
   "outputs": [],
   "source": [
    "import numpy as np # linear algebra\n",
    "import pandas as pd # data processing, CSV file I/O (e.g. pd.read_csv)\n",
    "\n",
    "# Import scraping tools\n",
    "import requests\n",
    "from bs4 import BeautifulSoup"
   ]
  },
  {
   "cell_type": "code",
   "execution_count": 31,
   "metadata": {},
   "outputs": [],
   "source": [
    "list_1 = []\n",
    "\n",
    "# Get the URL\n",
    "url = f'https://thoughtcatalog.com/hok-leahcim/2014/07/27-incredibly-badass-people-in-history-revealed/'\n",
    "\n",
    "# Make the request\n",
    "r = requests.get(url)\n",
    "\n",
    "# Parse the script\n",
    "soup = BeautifulSoup(r.text, 'html.parser')\n",
    "# Pull the table data\n",
    "\n",
    "data_loc = soup.find('div', class_='entry post clearfix')\n",
    "\n",
    "# print(data_loc)\n",
    "for i in range(25):\n",
    "    data = data_loc.find_all('h3')[i].text.strip()\n",
    "    list_1.append(data)\n"
   ]
  },
  {
   "cell_type": "code",
   "execution_count": 44,
   "metadata": {},
   "outputs": [
    {
     "data": {
      "text/plain": [
       "<div class=\"Title_itemNameContainer__15uql\"><meta content=\"Simo Häyhä\" itemprop=\"name\"/><meta content=\"1\" itemprop=\"position\"/><h2 class=\"Title_title__2aoq1\">Simo Häyhä</h2></div>"
      ]
     },
     "execution_count": 44,
     "metadata": {},
     "output_type": "execute_result"
    }
   ],
   "source": [
    "list_2 = []\n",
    "\n",
    "# Get the URL\n",
    "url = f'https://www.ranker.com/list/biggest-badasses-in-history/chase-christy'\n",
    "\n",
    "# Make the request\n",
    "r = requests.get(url)\n",
    "\n",
    "# Parse the script\n",
    "soup = BeautifulSoup(r.text, 'html.parser')\n",
    "# Pull the table data\n",
    "\n",
    "\n",
    "\n",
    "data_loc = soup.find('div', class_=\"list_contentContainer__XVNsa\")\n",
    "\n",
    "# data_loc.find('div', class_=\"Title_itemNameContainer__15uql\")\n",
    "\n",
    "# print(data_loc)\n",
    "\n",
    "# data_loc = soup.find('div', class_='entry post clearfix')\n",
    "\n",
    "# # print(data_loc)\n",
    "# for i in range(25):\n",
    "#     data = data_loc.find_all('h3')[i].text.strip()\n",
    "#     list_1.append(data)"
   ]
  },
  {
   "cell_type": "code",
   "execution_count": null,
   "metadata": {},
   "outputs": [],
   "source": []
  }
 ],
 "metadata": {
  "interpreter": {
   "hash": "668e7592863c8ab91b3801da115a35e53b248dec151090f697f389b7f1a11f69"
  },
  "kernelspec": {
   "display_name": "Python 3.7.10 64-bit ('PythonData': conda)",
   "language": "python",
   "name": "python3"
  },
  "language_info": {
   "codemirror_mode": {
    "name": "ipython",
    "version": 3
   },
   "file_extension": ".py",
   "mimetype": "text/x-python",
   "name": "python",
   "nbconvert_exporter": "python",
   "pygments_lexer": "ipython3",
   "version": "3.7.10"
  },
  "orig_nbformat": 4
 },
 "nbformat": 4,
 "nbformat_minor": 2
}
