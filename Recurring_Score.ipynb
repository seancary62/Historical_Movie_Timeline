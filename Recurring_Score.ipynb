{
 "cells": [
  {
   "cell_type": "code",
   "execution_count": 115,
   "metadata": {},
   "outputs": [],
   "source": [
    "# import dependencies\n",
    "import requests\n",
    "import pandas as pd\n",
    "import numpy as np\n",
    "from config import api_key\n",
    "from geopy.geocoders import Nominatim\n",
    "from geopy.extra.rate_limiter import RateLimiter"
   ]
  },
  {
   "cell_type": "code",
   "execution_count": 116,
   "metadata": {},
   "outputs": [],
   "source": [
    "# Import old csv files and append new data\n",
    "actors_clean_old = pd.read_csv('resources/cleaned/actors_cleaned.csv')\n",
    "movie_list = pd.read_csv('resources/cleaned/movie_list_cleaned.csv')\n"
   ]
  },
  {
   "cell_type": "code",
   "execution_count": 117,
   "metadata": {},
   "outputs": [],
   "source": [
    "# Get count of recurrance for each actor\n",
    "# Count each recurrance of an actor's name and create a DF.\n",
    "actor_movie_count = actors_clean_old.drop_duplicates(subset=['name','title'])\n",
    "actor_movie_count = pd.DataFrame({'count': actor_movie_count.groupby(['name','actor_id'],sort=False).size()}).reset_index()\n",
    "actor_movie_count['count'].replace({1:0},inplace=True)\n",
    "\n"
   ]
  },
  {
   "cell_type": "code",
   "execution_count": 118,
   "metadata": {},
   "outputs": [],
   "source": [
    "# Combine Wiki DF with TMDB DF\n",
    "actors_clean = actors_clean_old.merge(actor_movie_count, how='left', left_on=['actor_id','name'], right_on=['actor_id','name'])\n",
    "actor_recurrance_score = pd.DataFrame({'ARS':actors_clean.groupby('movie_id')['count'].sum()}).reset_index()\n",
    "actor_recurrance_score.head()\n",
    "actors_clean.to_csv('actor_test.csv')\n",
    "\n"
   ]
  },
  {
   "cell_type": "code",
   "execution_count": 114,
   "metadata": {},
   "outputs": [
    {
     "data": {
      "text/plain": [
       "(619, 22)"
      ]
     },
     "execution_count": 114,
     "metadata": {},
     "output_type": "execute_result"
    }
   ],
   "source": [
    "movie_list_2 = movie_list.merge(actor_recurrance_score, how='left', left_on=['movie_id'], right_on=['movie_id'])\n",
    "movie_list_2.sort_values(by=['ARS'],ascending=False, inplace=True)\n",
    "# movie_list_2.drop_duplicates(subset=['movie_id'],inplace=True)\n",
    "movie_list_2.sort_values(by=['Start Time'],inplace=True)\n",
    "movie_list_2.reset_index(drop=True, inplace=True)\n"
   ]
  },
  {
   "cell_type": "code",
   "execution_count": null,
   "metadata": {},
   "outputs": [],
   "source": []
  }
 ],
 "metadata": {
  "interpreter": {
   "hash": "668e7592863c8ab91b3801da115a35e53b248dec151090f697f389b7f1a11f69"
  },
  "kernelspec": {
   "display_name": "Python 3.7.10 ('PythonData')",
   "language": "python",
   "name": "python3"
  },
  "language_info": {
   "codemirror_mode": {
    "name": "ipython",
    "version": 3
   },
   "file_extension": ".py",
   "mimetype": "text/x-python",
   "name": "python",
   "nbconvert_exporter": "python",
   "pygments_lexer": "ipython3",
   "version": "3.7.10"
  },
  "orig_nbformat": 4
 },
 "nbformat": 4,
 "nbformat_minor": 2
}
