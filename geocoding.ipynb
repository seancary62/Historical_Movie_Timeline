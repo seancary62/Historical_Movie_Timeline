{
 "cells": [
  {
   "cell_type": "code",
   "execution_count": 30,
   "metadata": {},
   "outputs": [],
   "source": [
    "import geopy\n",
    "from geopy.geocoders import Nominatim\n",
    "from geopy.extra.rate_limiter import RateLimiter\n",
    "from geopy import distance\n",
    "\n",
    "import pandas as pd\n",
    "import ipywidgets\n",
    "\n"
   ]
  },
  {
   "cell_type": "code",
   "execution_count": 31,
   "metadata": {},
   "outputs": [
    {
     "name": "stdout",
     "output_type": "stream",
     "text": [
      "27.321657 68.1365933\n"
     ]
    }
   ],
   "source": [
    "# Input location\n",
    "location = \"Mohenjo-daro\"\n",
    "\n",
    "Egypt = Nominatim(user_agent='sean.cary62@gmail.com').geocode(location)\n",
    "print(Egypt.latitude,Egypt.longitude)"
   ]
  },
  {
   "cell_type": "code",
   "execution_count": 32,
   "metadata": {},
   "outputs": [
    {
     "data": {
      "text/html": [
       "<div>\n",
       "<style scoped>\n",
       "    .dataframe tbody tr th:only-of-type {\n",
       "        vertical-align: middle;\n",
       "    }\n",
       "\n",
       "    .dataframe tbody tr th {\n",
       "        vertical-align: top;\n",
       "    }\n",
       "\n",
       "    .dataframe thead th {\n",
       "        text-align: right;\n",
       "    }\n",
       "</style>\n",
       "<table border=\"1\" class=\"dataframe\">\n",
       "  <thead>\n",
       "    <tr style=\"text-align: right;\">\n",
       "      <th></th>\n",
       "      <th>Title</th>\n",
       "      <th>Release date</th>\n",
       "      <th>Time Era</th>\n",
       "      <th>Time Period</th>\n",
       "      <th>Notes on setting</th>\n",
       "      <th>Location</th>\n",
       "    </tr>\n",
       "  </thead>\n",
       "  <tbody>\n",
       "    <tr>\n",
       "      <th>0</th>\n",
       "      <td>Early Man</td>\n",
       "      <td>2018</td>\n",
       "      <td>Paleolithic</td>\n",
       "      <td>1 Million B.C.</td>\n",
       "      <td>Stop motion animated comedy about a group of c...</td>\n",
       "      <td>Europe</td>\n",
       "    </tr>\n",
       "    <tr>\n",
       "      <th>1</th>\n",
       "      <td>Quest for Fire</td>\n",
       "      <td>1981</td>\n",
       "      <td>Paleolithic</td>\n",
       "      <td>80,000 BC</td>\n",
       "      <td>The story is set in Paleolithic Europe, with i...</td>\n",
       "      <td>Europe</td>\n",
       "    </tr>\n",
       "    <tr>\n",
       "      <th>2</th>\n",
       "      <td>The Clan of the Cave Bear</td>\n",
       "      <td>1986</td>\n",
       "      <td>Paleolithic</td>\n",
       "      <td>40,000 � 35,000 BC</td>\n",
       "      <td>In times of�Neanderthal extinction</td>\n",
       "      <td>Europe</td>\n",
       "    </tr>\n",
       "    <tr>\n",
       "      <th>3</th>\n",
       "      <td>Alpha</td>\n",
       "      <td>2018</td>\n",
       "      <td>Paleolithic</td>\n",
       "      <td>20,000 BC</td>\n",
       "      <td>Dog domestication</td>\n",
       "      <td>Europe</td>\n",
       "    </tr>\n",
       "    <tr>\n",
       "      <th>4</th>\n",
       "      <td>Creatures the World Forgot</td>\n",
       "      <td>1971</td>\n",
       "      <td>Paleolithic</td>\n",
       "      <td>NaN</td>\n",
       "      <td>NaN</td>\n",
       "      <td>Europe</td>\n",
       "    </tr>\n",
       "  </tbody>\n",
       "</table>\n",
       "</div>"
      ],
      "text/plain": [
       "                        Title Release date     Time Era         Time Period  \\\n",
       "0                   Early Man         2018  Paleolithic      1 Million B.C.   \n",
       "1              Quest for Fire         1981  Paleolithic           80,000 BC   \n",
       "2   The Clan of the Cave Bear         1986  Paleolithic  40,000 � 35,000 BC   \n",
       "3                       Alpha         2018  Paleolithic           20,000 BC   \n",
       "4  Creatures the World Forgot         1971  Paleolithic                 NaN   \n",
       "\n",
       "                                    Notes on setting Location  \n",
       "0  Stop motion animated comedy about a group of c...   Europe  \n",
       "1  The story is set in Paleolithic Europe, with i...   Europe  \n",
       "2                 In times of�Neanderthal extinction   Europe  \n",
       "3                                  Dog domestication   Europe  \n",
       "4                                                NaN   Europe  "
      ]
     },
     "execution_count": 32,
     "metadata": {},
     "output_type": "execute_result"
    }
   ],
   "source": [
    "# Get CSV with movie data\n",
    "movies_df = pd.read_csv('resources/wiki_movie_list.csv')\n",
    "\n",
    "movies_df.head(5)"
   ]
  },
  {
   "cell_type": "code",
   "execution_count": 33,
   "metadata": {},
   "outputs": [],
   "source": [
    "geocoder = RateLimiter(Nominatim(user_agent='sean.cary62@gmail.com').geocode, min_delay_seconds=1)\n",
    "movies_df['Full Location'] = movies_df['Location'].apply(geocoder)\n",
    "\n",
    "movies_df['latitude'] = movies_df['Full Location'].apply(lambda loc: loc.latitude if loc else None)\n",
    "movies_df['longitude'] = movies_df['Full Location'].apply(lambda loc: loc.longitude if loc else None)\n",
    "movies_df.head(10)\n",
    "\n",
    "movies_df.to_csv('resources/movies_locations_test.csv')\n"
   ]
  },
  {
   "cell_type": "code",
   "execution_count": 24,
   "metadata": {},
   "outputs": [
    {
     "data": {
      "text/html": [
       "<div>\n",
       "<style scoped>\n",
       "    .dataframe tbody tr th:only-of-type {\n",
       "        vertical-align: middle;\n",
       "    }\n",
       "\n",
       "    .dataframe tbody tr th {\n",
       "        vertical-align: top;\n",
       "    }\n",
       "\n",
       "    .dataframe thead th {\n",
       "        text-align: right;\n",
       "    }\n",
       "</style>\n",
       "<table border=\"1\" class=\"dataframe\">\n",
       "  <thead>\n",
       "    <tr style=\"text-align: right;\">\n",
       "      <th></th>\n",
       "      <th>Title</th>\n",
       "      <th>Release date</th>\n",
       "      <th>Time Era</th>\n",
       "      <th>Time Period</th>\n",
       "      <th>Notes on setting</th>\n",
       "      <th>Location</th>\n",
       "      <th>Full Location</th>\n",
       "      <th>latitude</th>\n",
       "      <th>longitude</th>\n",
       "    </tr>\n",
       "  </thead>\n",
       "  <tbody>\n",
       "    <tr>\n",
       "      <th>276</th>\n",
       "      <td>Soldier of God</td>\n",
       "      <td>2005</td>\n",
       "      <td>medieval era</td>\n",
       "      <td>1187</td>\n",
       "      <td>a�Templar�who has survived the�Battle of Hattin</td>\n",
       "      <td>Kingdom of Jerusalem</td>\n",
       "      <td>(Dixon's Kingdom Hut, Walls of Jerusalem Track...</td>\n",
       "      <td>-41.828908</td>\n",
       "      <td>146.30919</td>\n",
       "    </tr>\n",
       "  </tbody>\n",
       "</table>\n",
       "</div>"
      ],
      "text/plain": [
       "              Title Release date      Time Era Time Period  \\\n",
       "276  Soldier of God         2005  medieval era        1187   \n",
       "\n",
       "                                    Notes on setting              Location  \\\n",
       "276  a�Templar�who has survived the�Battle of Hattin  Kingdom of Jerusalem   \n",
       "\n",
       "                                         Full Location   latitude  longitude  \n",
       "276  (Dixon's Kingdom Hut, Walls of Jerusalem Track... -41.828908  146.30919  "
      ]
     },
     "execution_count": 24,
     "metadata": {},
     "output_type": "execute_result"
    }
   ],
   "source": [
    "movies_df.loc[movies_df['Title']=='Soldier of God']"
   ]
  },
  {
   "cell_type": "code",
   "execution_count": null,
   "metadata": {},
   "outputs": [],
   "source": []
  }
 ],
 "metadata": {
  "interpreter": {
   "hash": "668e7592863c8ab91b3801da115a35e53b248dec151090f697f389b7f1a11f69"
  },
  "kernelspec": {
   "display_name": "Python 3.7.10 64-bit ('PythonData': conda)",
   "language": "python",
   "name": "python3"
  },
  "language_info": {
   "codemirror_mode": {
    "name": "ipython",
    "version": 3
   },
   "file_extension": ".py",
   "mimetype": "text/x-python",
   "name": "python",
   "nbconvert_exporter": "python",
   "pygments_lexer": "ipython3",
   "version": "3.7.10"
  },
  "orig_nbformat": 4
 },
 "nbformat": 4,
 "nbformat_minor": 2
}
