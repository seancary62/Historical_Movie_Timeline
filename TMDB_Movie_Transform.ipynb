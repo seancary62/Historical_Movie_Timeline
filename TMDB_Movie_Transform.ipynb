{
 "cells": [
  {
   "cell_type": "code",
   "execution_count": 4,
   "metadata": {},
   "outputs": [],
   "source": [
    "# import dependencies\n",
    "import requests\n",
    "import pandas as pd\n",
    "import numpy as np\n",
    "from config import api_key\n",
    "from geopy.geocoders import Nominatim\n",
    "from geopy.extra.rate_limiter import RateLimiter"
   ]
  },
  {
   "cell_type": "code",
   "execution_count": 5,
   "metadata": {},
   "outputs": [],
   "source": [
    "movie_list = pd.read_csv('resources/cleaned/tmdb_movie_list.csv')"
   ]
  },
  {
   "cell_type": "code",
   "execution_count": 6,
   "metadata": {},
   "outputs": [
    {
     "name": "stdout",
     "output_type": "stream",
     "text": [
      "<class 'pandas.core.frame.DataFrame'>\n",
      "RangeIndex: 563 entries, 0 to 562\n",
      "Data columns (total 21 columns):\n",
      " #   Column             Non-Null Count  Dtype  \n",
      "---  ------             --------------  -----  \n",
      " 0   Title              563 non-null    object \n",
      " 1   Release date       563 non-null    int64  \n",
      " 2   Time Period        563 non-null    object \n",
      " 3   Start Time         563 non-null    int64  \n",
      " 4   End Time           563 non-null    int64  \n",
      " 5   Location           562 non-null    object \n",
      " 6   genre_ids          563 non-null    object \n",
      " 7   movie_id           563 non-null    int64  \n",
      " 8   original_language  563 non-null    object \n",
      " 9   overview           557 non-null    object \n",
      " 10  popularity         563 non-null    float64\n",
      " 11  title              563 non-null    object \n",
      " 12  video              563 non-null    bool   \n",
      " 13  vote_average       563 non-null    float64\n",
      " 14  vote_count         563 non-null    int64  \n",
      " 15  genres             563 non-null    object \n",
      " 16  name               559 non-null    object \n",
      " 17  keywords           456 non-null    object \n",
      " 18  Full Location      559 non-null    object \n",
      " 19  latitude           559 non-null    float64\n",
      " 20  longitude          559 non-null    float64\n",
      "dtypes: bool(1), float64(4), int64(5), object(11)\n",
      "memory usage: 88.6+ KB\n"
     ]
    }
   ],
   "source": [
    "movie_list.info()"
   ]
  },
  {
   "cell_type": "markdown",
   "metadata": {},
   "source": [
    "### Create DFs for Actors, Directors, and Studios"
   ]
  },
  {
   "cell_type": "code",
   "execution_count": 7,
   "metadata": {},
   "outputs": [],
   "source": [
    "# Code from The-Final-Project_F-PALS was refractored for this project.\n",
    "# The code below will make an API call based on the movie list to get the leading actors and directors of each film.\n",
    "\n",
    "# Create list of movie ids that will be used to make API calls for additional information\n",
    "id_list = movie_list.movie_id.tolist()\n",
    "\n",
    "# Create blank DFs and lists\n",
    "actors_df = pd.DataFrame()\n",
    "directors_df = pd.DataFrame()\n",
    "studio_df = pd.DataFrame()\n",
    "actor_movie_id = []\n",
    "director_movie_id = []\n",
    "studio_movie_id = []\n",
    "\n",
    "# Make API calls for movie_id to get the actors, directors, and studios for each film\n",
    "for movie_id in id_list:\n",
    "    movie_credits = requests.get(f'https://api.themoviedb.org/3/movie/{movie_id}/credits?api_key={api_key}&language=en-US').json()\n",
    "\n",
    "    for actor in movie_credits['cast']:\n",
    "        actors_df = actors_df.append(actor, ignore_index=True)\n",
    "        actor_movie_id.append(movie_id)\n",
    "\n",
    "    for director in movie_credits['crew']:\n",
    "        if director['job'] == \"Director\":\n",
    "            directors_df = directors_df.append(director, ignore_index=True)\n",
    "            director_movie_id.append(movie_id)\n",
    "\n",
    "    movie_studios = requests.get(f'https://api.themoviedb.org/3/movie/{movie_id}?api_key={api_key}&language=en-US').json()\n",
    "    for studio in movie_studios['production_companies']:\n",
    "        studio_df = studio_df.append(studio, ignore_index=True)\n",
    "        studio_movie_id.append(movie_id)\n",
    "\n",
    "# Clean the new DFs\n",
    "actors_df[\"movie_id\"] = actor_movie_id\n",
    "actors = actors_df.rename(columns = {\"id\": \"actor_id\",'popularity': 'actor_popularity'})\n",
    "actors = actors[['name','actor_id','gender','character','actor_popularity','movie_id']]\n",
    "actors = pd.merge(actors,movie_list[['movie_id', 'title']], on='movie_id', how='left')\n",
    "actors_clean = actors.drop_duplicates(subset=['name','title'])\n",
    "\n",
    "directors_df['movie_id'] = director_movie_id\n",
    "directors = directors_df.rename(columns={'id': 'director_id', 'popularity': 'director_popularity'})\n",
    "directors = directors[['name','director_id','gender','director_popularity','movie_id']]\n",
    "directors = pd.merge(directors,movie_list[['movie_id', 'title']], on='movie_id', how='left')\n",
    "directors_clean = directors.drop_duplicates(subset=['name','title'])\n",
    "\n",
    "studio_df['movie_id'] = studio_movie_id\n",
    "studio = studio_df.drop(columns=['logo_path'])\n",
    "studio = studio.rename(columns={'id': 'studio_id', 'name':'studio_name'})\n",
    "studio = pd.merge(studio,movie_list[['movie_id', 'title']], on='movie_id', how='left')\n",
    "\n",
    "studio_group = studio.groupby('studio_name',sort = False)\n",
    "studio_group = studio_group['title'].agg(lambda column: \", \".join(column))\n",
    "studio_group = studio_group.reset_index(name='title')\n",
    "studio_group = studio_group.rename(columns={'title':'title list'})\n",
    "studio_clean = studio_group.merge(studio,on='studio_name', how='left')\n",
    "\n",
    "# Add list of actors to movie_list\n",
    "actors_group = actors_clean.groupby('movie_id',sort = False)\n",
    "actor_lists = actors_group['name'].agg(lambda column: \", \".join(column))\n",
    "actor_lists = actor_lists.reset_index(name='name')\n",
    "movie_list = movie_list.merge(actor_lists,on='movie_id', how='left')\n",
    "\n",
    "# Add list of movies to actors\n",
    "actors_clean_drop = actors_clean.drop_duplicates(subset=['name','title'])\n",
    "movie_group = actors_clean_drop.groupby('name',sort = False)\n",
    "movie_group = movie_group['title'].agg(lambda column: \", \".join(column))\n",
    "movie_group = movie_group.reset_index(name='title')\n",
    "movie_group = movie_group.rename(columns={'title':'title list'})\n",
    "actors_clean = movie_group.merge(actors_clean,on='name', how='left')\n",
    "\n",
    "# Add list of movies to directors\n",
    "directors_clean_drop = directors_clean.drop_duplicates(subset=['name','title'])\n",
    "movie_group_dir = directors_clean_drop.groupby('name',sort = False)\n",
    "movie_group_dir = movie_group_dir['title'].agg(lambda column: \", \".join(column))\n",
    "movie_group_dir = movie_group_dir.reset_index(name='title')\n",
    "movie_group_dir = movie_group_dir.rename(columns={'title':'title list'})\n",
    "directors_clean = movie_group_dir.merge(directors_clean,on='name', how='left')\n",
    "\n",
    "# Count each recurrance of an actor's name and create a DF.\n",
    "actor_movie_count = actors_clean.drop_duplicates(subset=['name','title'])\n",
    "actor_movie_count = pd.DataFrame({'count': actor_movie_count.groupby(['name','actor_id'],sort=False).size()}).reset_index()"
   ]
  },
  {
   "cell_type": "code",
   "execution_count": 8,
   "metadata": {},
   "outputs": [],
   "source": [
    "# Get keywords for each movie, create new DF\n",
    "keywords = pd.DataFrame()\n",
    "movie_id_keywords = []\n",
    "\n",
    "for movie_id in id_list:\n",
    "    movie = requests.get(f'https://api.themoviedb.org/3/movie/{movie_id}/keywords?api_key={api_key}').json()\n",
    "    for key in movie['keywords']:\n",
    "        keywords = keywords.append(key, ignore_index=True)\n",
    "        movie_id_keywords.append(movie_id)\n",
    "\n",
    "keywords['movie_id'] = movie_id_keywords\n",
    "keywords['movie_id'] = keywords['movie_id'].astype(int)\n",
    "\n",
    "keywords = keywords.rename(columns={'name':'keywords'})\n",
    "keywords = keywords.drop(columns=['id'])\n",
    "\n",
    "# Add list of keywords to movie_list by movie id.\n",
    "keyword_group = keywords.groupby('movie_id',sort = False)\n",
    "keyword_lists = keyword_group['keywords'].agg(lambda column: \", \".join(column))\n",
    "keyword_lists = keyword_lists.reset_index(name='keywords')\n",
    "\n",
    "movie_list = movie_list.merge(keyword_lists,on='movie_id', how='left')\n"
   ]
  },
  {
   "cell_type": "markdown",
   "metadata": {},
   "source": [
    "### Use Geopy to Get Coordinates for Movie Location"
   ]
  },
  {
   "cell_type": "code",
   "execution_count": 9,
   "metadata": {},
   "outputs": [
    {
     "ename": "KeyboardInterrupt",
     "evalue": "",
     "output_type": "error",
     "traceback": [
      "\u001b[1;31m---------------------------------------------------------------------------\u001b[0m",
      "\u001b[1;31mKeyboardInterrupt\u001b[0m                         Traceback (most recent call last)",
      "\u001b[1;32m<ipython-input-9-248c9ab8c910>\u001b[0m in \u001b[0;36m<module>\u001b[1;34m\u001b[0m\n\u001b[0;32m      1\u001b[0m \u001b[1;31m# Use geopy to get longitute and latitude of movie location.\u001b[0m\u001b[1;33m\u001b[0m\u001b[1;33m\u001b[0m\u001b[1;33m\u001b[0m\u001b[0m\n\u001b[0;32m      2\u001b[0m \u001b[0mgeocoder\u001b[0m \u001b[1;33m=\u001b[0m \u001b[0mRateLimiter\u001b[0m\u001b[1;33m(\u001b[0m\u001b[0mNominatim\u001b[0m\u001b[1;33m(\u001b[0m\u001b[0muser_agent\u001b[0m\u001b[1;33m=\u001b[0m\u001b[1;34m'sean.cary62@gmail.com'\u001b[0m\u001b[1;33m)\u001b[0m\u001b[1;33m.\u001b[0m\u001b[0mgeocode\u001b[0m\u001b[1;33m,\u001b[0m \u001b[0mmin_delay_seconds\u001b[0m\u001b[1;33m=\u001b[0m\u001b[1;36m1\u001b[0m\u001b[1;33m)\u001b[0m\u001b[1;33m\u001b[0m\u001b[1;33m\u001b[0m\u001b[0m\n\u001b[1;32m----> 3\u001b[1;33m \u001b[0mmovie_list\u001b[0m\u001b[1;33m[\u001b[0m\u001b[1;34m'Full Location'\u001b[0m\u001b[1;33m]\u001b[0m \u001b[1;33m=\u001b[0m \u001b[0mmovie_list\u001b[0m\u001b[1;33m[\u001b[0m\u001b[1;34m'Location'\u001b[0m\u001b[1;33m]\u001b[0m\u001b[1;33m.\u001b[0m\u001b[0mapply\u001b[0m\u001b[1;33m(\u001b[0m\u001b[0mgeocoder\u001b[0m\u001b[1;33m)\u001b[0m\u001b[1;33m\u001b[0m\u001b[1;33m\u001b[0m\u001b[0m\n\u001b[0m\u001b[0;32m      4\u001b[0m \u001b[1;33m\u001b[0m\u001b[0m\n\u001b[0;32m      5\u001b[0m \u001b[0mmovie_list\u001b[0m\u001b[1;33m[\u001b[0m\u001b[1;34m'latitude'\u001b[0m\u001b[1;33m]\u001b[0m \u001b[1;33m=\u001b[0m \u001b[0mmovie_list\u001b[0m\u001b[1;33m[\u001b[0m\u001b[1;34m'Full Location'\u001b[0m\u001b[1;33m]\u001b[0m\u001b[1;33m.\u001b[0m\u001b[0mapply\u001b[0m\u001b[1;33m(\u001b[0m\u001b[1;32mlambda\u001b[0m \u001b[0mloc\u001b[0m\u001b[1;33m:\u001b[0m \u001b[0mloc\u001b[0m\u001b[1;33m.\u001b[0m\u001b[0mlatitude\u001b[0m \u001b[1;32mif\u001b[0m \u001b[0mloc\u001b[0m \u001b[1;32melse\u001b[0m \u001b[1;32mNone\u001b[0m\u001b[1;33m)\u001b[0m\u001b[1;33m\u001b[0m\u001b[1;33m\u001b[0m\u001b[0m\n",
      "\u001b[1;32m~\\anaconda3\\envs\\PythonData\\lib\\site-packages\\pandas\\core\\series.py\u001b[0m in \u001b[0;36mapply\u001b[1;34m(self, func, convert_dtype, args, **kwds)\u001b[0m\n\u001b[0;32m   4136\u001b[0m             \u001b[1;32melse\u001b[0m\u001b[1;33m:\u001b[0m\u001b[1;33m\u001b[0m\u001b[1;33m\u001b[0m\u001b[0m\n\u001b[0;32m   4137\u001b[0m                 \u001b[0mvalues\u001b[0m \u001b[1;33m=\u001b[0m \u001b[0mself\u001b[0m\u001b[1;33m.\u001b[0m\u001b[0mastype\u001b[0m\u001b[1;33m(\u001b[0m\u001b[0mobject\u001b[0m\u001b[1;33m)\u001b[0m\u001b[1;33m.\u001b[0m\u001b[0m_values\u001b[0m\u001b[1;33m\u001b[0m\u001b[1;33m\u001b[0m\u001b[0m\n\u001b[1;32m-> 4138\u001b[1;33m                 \u001b[0mmapped\u001b[0m \u001b[1;33m=\u001b[0m \u001b[0mlib\u001b[0m\u001b[1;33m.\u001b[0m\u001b[0mmap_infer\u001b[0m\u001b[1;33m(\u001b[0m\u001b[0mvalues\u001b[0m\u001b[1;33m,\u001b[0m \u001b[0mf\u001b[0m\u001b[1;33m,\u001b[0m \u001b[0mconvert\u001b[0m\u001b[1;33m=\u001b[0m\u001b[0mconvert_dtype\u001b[0m\u001b[1;33m)\u001b[0m\u001b[1;33m\u001b[0m\u001b[1;33m\u001b[0m\u001b[0m\n\u001b[0m\u001b[0;32m   4139\u001b[0m \u001b[1;33m\u001b[0m\u001b[0m\n\u001b[0;32m   4140\u001b[0m         \u001b[1;32mif\u001b[0m \u001b[0mlen\u001b[0m\u001b[1;33m(\u001b[0m\u001b[0mmapped\u001b[0m\u001b[1;33m)\u001b[0m \u001b[1;32mand\u001b[0m \u001b[0misinstance\u001b[0m\u001b[1;33m(\u001b[0m\u001b[0mmapped\u001b[0m\u001b[1;33m[\u001b[0m\u001b[1;36m0\u001b[0m\u001b[1;33m]\u001b[0m\u001b[1;33m,\u001b[0m \u001b[0mSeries\u001b[0m\u001b[1;33m)\u001b[0m\u001b[1;33m:\u001b[0m\u001b[1;33m\u001b[0m\u001b[1;33m\u001b[0m\u001b[0m\n",
      "\u001b[1;32mpandas\\_libs\\lib.pyx\u001b[0m in \u001b[0;36mpandas._libs.lib.map_infer\u001b[1;34m()\u001b[0m\n",
      "\u001b[1;32m~\\anaconda3\\envs\\PythonData\\lib\\site-packages\\geopy\\extra\\rate_limiter.py\u001b[0m in \u001b[0;36m__call__\u001b[1;34m(self, *args, **kwargs)\u001b[0m\n\u001b[0;32m    270\u001b[0m         \u001b[0mgen\u001b[0m \u001b[1;33m=\u001b[0m \u001b[0mself\u001b[0m\u001b[1;33m.\u001b[0m\u001b[0m_retries_gen\u001b[0m\u001b[1;33m(\u001b[0m\u001b[0margs\u001b[0m\u001b[1;33m,\u001b[0m \u001b[0mkwargs\u001b[0m\u001b[1;33m)\u001b[0m\u001b[1;33m\u001b[0m\u001b[1;33m\u001b[0m\u001b[0m\n\u001b[0;32m    271\u001b[0m         \u001b[1;32mfor\u001b[0m \u001b[0m_\u001b[0m \u001b[1;32min\u001b[0m \u001b[0mgen\u001b[0m\u001b[1;33m:\u001b[0m\u001b[1;33m\u001b[0m\u001b[1;33m\u001b[0m\u001b[0m\n\u001b[1;32m--> 272\u001b[1;33m             \u001b[0mself\u001b[0m\u001b[1;33m.\u001b[0m\u001b[0m_acquire_request_slot\u001b[0m\u001b[1;33m(\u001b[0m\u001b[1;33m)\u001b[0m\u001b[1;33m\u001b[0m\u001b[1;33m\u001b[0m\u001b[0m\n\u001b[0m\u001b[0;32m    273\u001b[0m             \u001b[1;32mtry\u001b[0m\u001b[1;33m:\u001b[0m\u001b[1;33m\u001b[0m\u001b[1;33m\u001b[0m\u001b[0m\n\u001b[0;32m    274\u001b[0m                 \u001b[0mres\u001b[0m \u001b[1;33m=\u001b[0m \u001b[0mself\u001b[0m\u001b[1;33m.\u001b[0m\u001b[0mfunc\u001b[0m\u001b[1;33m(\u001b[0m\u001b[1;33m*\u001b[0m\u001b[0margs\u001b[0m\u001b[1;33m,\u001b[0m \u001b[1;33m**\u001b[0m\u001b[0mkwargs\u001b[0m\u001b[1;33m)\u001b[0m\u001b[1;33m\u001b[0m\u001b[1;33m\u001b[0m\u001b[0m\n",
      "\u001b[1;32m~\\anaconda3\\envs\\PythonData\\lib\\site-packages\\geopy\\extra\\rate_limiter.py\u001b[0m in \u001b[0;36m_acquire_request_slot\u001b[1;34m(self)\u001b[0m\n\u001b[0;32m    265\u001b[0m     \u001b[1;32mdef\u001b[0m \u001b[0m_acquire_request_slot\u001b[0m\u001b[1;33m(\u001b[0m\u001b[0mself\u001b[0m\u001b[1;33m)\u001b[0m\u001b[1;33m:\u001b[0m\u001b[1;33m\u001b[0m\u001b[1;33m\u001b[0m\u001b[0m\n\u001b[0;32m    266\u001b[0m         \u001b[1;32mfor\u001b[0m \u001b[0mwait\u001b[0m \u001b[1;32min\u001b[0m \u001b[0mself\u001b[0m\u001b[1;33m.\u001b[0m\u001b[0m_acquire_request_slot_gen\u001b[0m\u001b[1;33m(\u001b[0m\u001b[1;33m)\u001b[0m\u001b[1;33m:\u001b[0m\u001b[1;33m\u001b[0m\u001b[1;33m\u001b[0m\u001b[0m\n\u001b[1;32m--> 267\u001b[1;33m             \u001b[0mself\u001b[0m\u001b[1;33m.\u001b[0m\u001b[0m_sleep\u001b[0m\u001b[1;33m(\u001b[0m\u001b[0mwait\u001b[0m\u001b[1;33m)\u001b[0m\u001b[1;33m\u001b[0m\u001b[1;33m\u001b[0m\u001b[0m\n\u001b[0m\u001b[0;32m    268\u001b[0m \u001b[1;33m\u001b[0m\u001b[0m\n\u001b[0;32m    269\u001b[0m     \u001b[1;32mdef\u001b[0m \u001b[0m__call__\u001b[0m\u001b[1;33m(\u001b[0m\u001b[0mself\u001b[0m\u001b[1;33m,\u001b[0m \u001b[1;33m*\u001b[0m\u001b[0margs\u001b[0m\u001b[1;33m,\u001b[0m \u001b[1;33m**\u001b[0m\u001b[0mkwargs\u001b[0m\u001b[1;33m)\u001b[0m\u001b[1;33m:\u001b[0m\u001b[1;33m\u001b[0m\u001b[1;33m\u001b[0m\u001b[0m\n",
      "\u001b[1;32m~\\anaconda3\\envs\\PythonData\\lib\\site-packages\\geopy\\extra\\rate_limiter.py\u001b[0m in \u001b[0;36m_sleep\u001b[1;34m(self, seconds)\u001b[0m\n\u001b[0;32m    261\u001b[0m     \u001b[1;32mdef\u001b[0m \u001b[0m_sleep\u001b[0m\u001b[1;33m(\u001b[0m\u001b[0mself\u001b[0m\u001b[1;33m,\u001b[0m \u001b[0mseconds\u001b[0m\u001b[1;33m)\u001b[0m\u001b[1;33m:\u001b[0m  \u001b[1;31m# pragma: no cover\u001b[0m\u001b[1;33m\u001b[0m\u001b[1;33m\u001b[0m\u001b[0m\n\u001b[0;32m    262\u001b[0m         \u001b[0mlogger\u001b[0m\u001b[1;33m.\u001b[0m\u001b[0mdebug\u001b[0m\u001b[1;33m(\u001b[0m\u001b[0mtype\u001b[0m\u001b[1;33m(\u001b[0m\u001b[0mself\u001b[0m\u001b[1;33m)\u001b[0m\u001b[1;33m.\u001b[0m\u001b[0m__name__\u001b[0m \u001b[1;33m+\u001b[0m \u001b[1;34m\" sleep(%r)\"\u001b[0m\u001b[1;33m,\u001b[0m \u001b[0mseconds\u001b[0m\u001b[1;33m)\u001b[0m\u001b[1;33m\u001b[0m\u001b[1;33m\u001b[0m\u001b[0m\n\u001b[1;32m--> 263\u001b[1;33m         \u001b[0msleep\u001b[0m\u001b[1;33m(\u001b[0m\u001b[0mseconds\u001b[0m\u001b[1;33m)\u001b[0m\u001b[1;33m\u001b[0m\u001b[1;33m\u001b[0m\u001b[0m\n\u001b[0m\u001b[0;32m    264\u001b[0m \u001b[1;33m\u001b[0m\u001b[0m\n\u001b[0;32m    265\u001b[0m     \u001b[1;32mdef\u001b[0m \u001b[0m_acquire_request_slot\u001b[0m\u001b[1;33m(\u001b[0m\u001b[0mself\u001b[0m\u001b[1;33m)\u001b[0m\u001b[1;33m:\u001b[0m\u001b[1;33m\u001b[0m\u001b[1;33m\u001b[0m\u001b[0m\n",
      "\u001b[1;31mKeyboardInterrupt\u001b[0m: "
     ]
    }
   ],
   "source": [
    "# Use geopy to get longitute and latitude of movie location.\n",
    "geocoder = RateLimiter(Nominatim(user_agent='sean.cary62@gmail.com').geocode, min_delay_seconds=1)\n",
    "movie_list['Full Location'] = movie_list['Location'].apply(geocoder)\n",
    "\n",
    "movie_list['latitude'] = movie_list['Full Location'].apply(lambda loc: loc.latitude if loc else None)\n",
    "movie_list['longitude'] = movie_list['Full Location'].apply(lambda loc: loc.longitude if loc else None)\n",
    "movie_list.head(10)"
   ]
  },
  {
   "cell_type": "code",
   "execution_count": null,
   "metadata": {},
   "outputs": [],
   "source": [
    "# Add csv files to cleaned folder\n",
    "keywords.to_csv('resources/cleaned/keywords.csv', index=False)\n",
    "actors_clean.to_csv('resources/cleaned/actors_cleaned.csv', index=False)\n",
    "directors_clean.to_csv('resources/cleaned/director_cleaned.csv', index=False)\n",
    "studio.to_csv('resources/cleaned/studio_cleaned.csv', index=False)\n",
    "actor_movie_count.to_csv('resources/cleaned/actor_movie_count.csv', index=False)\n",
    "movie_list.to_csv('resources/cleaned/movie_list_cleaned.csv', index=False)"
   ]
  }
 ],
 "metadata": {
  "interpreter": {
   "hash": "668e7592863c8ab91b3801da115a35e53b248dec151090f697f389b7f1a11f69"
  },
  "kernelspec": {
   "display_name": "Python 3.7.10 64-bit ('PythonData': conda)",
   "language": "python",
   "name": "python3"
  },
  "language_info": {
   "codemirror_mode": {
    "name": "ipython",
    "version": 3
   },
   "file_extension": ".py",
   "mimetype": "text/x-python",
   "name": "python",
   "nbconvert_exporter": "python",
   "pygments_lexer": "ipython3",
   "version": "3.7.10"
  },
  "orig_nbformat": 4
 },
 "nbformat": 4,
 "nbformat_minor": 2
}
